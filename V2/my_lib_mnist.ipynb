{
  "nbformat": 4,
  "nbformat_minor": 0,
  "metadata": {
    "colab": {
      "name": "Untitled20.ipynb",
      "provenance": [],
      "collapsed_sections": []
    },
    "kernelspec": {
      "name": "python3",
      "display_name": "Python 3"
    },
    "language_info": {
      "name": "python"
    }
  },
  "cells": [
    {
      "cell_type": "code",
      "metadata": {
        "id": "kACKq_4plP7t"
      },
      "source": [
        "import os\n",
        "\n",
        "os.system(\"git clone https://github.com/ifanzilka/ft_neural_network_lib\")\n",
        "import sys\n",
        "sys.path.append('/content/ft_neural_network_lib/V2') # ADD Directory with my Lib\n"
      ],
      "execution_count": null,
      "outputs": []
    },
    {
      "cell_type": "code",
      "metadata": {
        "id": "tiYSCyeWlyzF"
      },
      "source": [
        "# Подключаю библиотеки\n",
        "from network import *\n",
        "from train   import *"
      ],
      "execution_count": null,
      "outputs": []
    },
    {
      "cell_type": "code",
      "metadata": {
        "colab": {
          "base_uri": "https://localhost:8080/"
        },
        "id": "DCEpUdOXmVu5",
        "outputId": "e3894cee-ac24-4e51-da9a-c6e3a61ca886"
      },
      "source": [
        "### распознование рукописных цифр mnist\n",
        "import numpy as np\n",
        "from urllib import request\n",
        "import gzip\n",
        "import pickle\n",
        "\n",
        "filename = [\n",
        "[\"training_images\",\"train-images-idx3-ubyte.gz\"],\n",
        "[\"test_images\",\"t10k-images-idx3-ubyte.gz\"],\n",
        "[\"training_labels\",\"train-labels-idx1-ubyte.gz\"],\n",
        "[\"test_labels\",\"t10k-labels-idx1-ubyte.gz\"]\n",
        "]\n",
        "\n",
        "\n",
        "def download_mnist():\n",
        "    base_url = \"http://yann.lecun.com/exdb/mnist/\"\n",
        "    for name in filename:\n",
        "        print(\"Downloading \"+name[1]+\"...\")\n",
        "        request.urlretrieve(base_url+name[1], name[1])\n",
        "    print(\"Download complete.\")\n",
        "\n",
        "\n",
        "def save_mnist():\n",
        "    mnist = {}\n",
        "    for name in filename[:2]:\n",
        "        with gzip.open(name[1], 'rb') as f:\n",
        "            mnist[name[0]] = np.frombuffer(f.read(), np.uint8, offset=16).reshape(-1,28*28)\n",
        "    for name in filename[-2:]:\n",
        "        with gzip.open(name[1], 'rb') as f:\n",
        "            mnist[name[0]] = np.frombuffer(f.read(), np.uint8, offset=8)\n",
        "    with open(\"mnist.pkl\", 'wb') as f:\n",
        "        pickle.dump(mnist,f)\n",
        "    print(\"Save complete.\")\n",
        "\n",
        "\n",
        "def init():\n",
        "    download_mnist()\n",
        "    save_mnist()\n",
        "\n",
        "\n",
        "def load():\n",
        "    with open(\"mnist.pkl\",'rb') as f:\n",
        "        mnist = pickle.load(f)\n",
        "    return mnist[\"training_images\"], mnist[\"training_labels\"], mnist[\"test_images\"], mnist[\"test_labels\"]\n",
        "\n",
        "init()\n",
        "X_train, y_train, X_test, y_test = load()\n",
        "num_labels = len(y_train)\n",
        "num_labels\n",
        "\n",
        "\n",
        "\n",
        "# one-hot encode\n",
        "num_labels = len(y_train)\n",
        "train_labels = np.zeros((num_labels, 10))\n",
        "for i in range(num_labels):\n",
        "    train_labels[i][y_train[i]] = 1\n",
        "\n",
        "num_labels = len(y_test)\n",
        "test_labels = np.zeros((num_labels, 10))\n",
        "for i in range(num_labels):\n",
        "    test_labels[i][y_test[i]] = 1"
      ],
      "execution_count": null,
      "outputs": [
        {
          "output_type": "stream",
          "text": [
            "Downloading train-images-idx3-ubyte.gz...\n",
            "Downloading t10k-images-idx3-ubyte.gz...\n",
            "Downloading train-labels-idx1-ubyte.gz...\n",
            "Downloading t10k-labels-idx1-ubyte.gz...\n",
            "Download complete.\n",
            "Save complete.\n"
          ],
          "name": "stdout"
        }
      ]
    },
    {
      "cell_type": "code",
      "metadata": {
        "id": "bvVuigXfoJTX"
      },
      "source": [
        "def calc_accuracy_model(model, test_set):\n",
        "    return print(f'''The model validation accuracy is: {np.equal(np.argmax(model.forward(test_set), axis=1), y_test).sum() * 100.0 / test_set.shape[0]:.2f}%''')"
      ],
      "execution_count": null,
      "outputs": []
    },
    {
      "cell_type": "code",
      "metadata": {
        "id": "jUR2mXGqtNKK"
      },
      "source": [
        ""
      ],
      "execution_count": null,
      "outputs": []
    },
    {
      "cell_type": "code",
      "metadata": {
        "colab": {
          "base_uri": "https://localhost:8080/"
        },
        "id": "YdGey_P3oO5Y",
        "outputId": "aeadcab7-f3f1-43a3-fb4a-a26890cf36d5"
      },
      "source": [
        "#  Делам нейронку для цифр\n",
        "model = NeuralNetwork(\n",
        "    layers=[Dense(neurons=89, \n",
        "                  activation=Tanh()),\n",
        "            Dense(neurons=10, \n",
        "                  activation=Sigmoid())],\n",
        "            loss = MeanSquaredError(normalize=False), \n",
        "seed=20190119)\n",
        "\n",
        "trainer = Trainer(model, SGD(0.1))\n",
        "trainer.fit(X_train, train_labels, X_test, test_labels,\n",
        "            epochs = 50,\n",
        "            eval_every = 10,\n",
        "            seed=20190119,\n",
        "            batch_size=60)\n",
        "print()\n",
        "calc_accuracy_model(model, X_test)"
      ],
      "execution_count": null,
      "outputs": [
        {
          "output_type": "stream",
          "text": [
            "Validation loss after 10 epochs is 0.776\n",
            "Validation loss after 20 epochs is 0.700\n",
            "Validation loss after 30 epochs is 0.658\n",
            "Validation loss after 40 epochs is 0.620\n",
            "Validation loss after 50 epochs is 0.564\n",
            "\n",
            "The model validation accuracy is: 53.08%\n"
          ],
          "name": "stdout"
        }
      ]
    },
    {
      "cell_type": "code",
      "metadata": {
        "id": "g77QdA4tpNxn"
      },
      "source": [
        "# Теперь сначала делаем среднее 0 и стандартное отклонение 1\n",
        "\n",
        "# делаем Мат Ожидание  = 0\n",
        "X_train_1, X_test_1 = X_train - np.mean(X_train), X_test - np.mean(X_train)\n",
        "np.min(X_train_1), np.max(X_train_1), np.min(X_test_1), np.max(X_test_1)\n",
        "\n",
        "# Делаем чтобы стандартное отклонение было = 1\n",
        "\n",
        "X_train_1, X_test_1 = X_train_1 / np.std(X_train_1), X_test_1 / np.std(X_train_1)\n",
        "\n"
      ],
      "execution_count": null,
      "outputs": []
    },
    {
      "cell_type": "code",
      "metadata": {
        "colab": {
          "base_uri": "https://localhost:8080/"
        },
        "id": "DcIVuJ3vpioK",
        "outputId": "a6ed4f4c-27a3-4bfa-9c3f-24afd34d9908"
      },
      "source": [
        "#  Делам нейронку для цифр\n",
        "model = NeuralNetwork(\n",
        "    layers=[Dense(neurons=89, \n",
        "                  activation=Tanh()),\n",
        "            Dense(neurons=10, \n",
        "                  activation=Sigmoid())],\n",
        "            loss = MeanSquaredError(normalize=False), \n",
        "seed=20190119)\n",
        "\n",
        "trainer = Trainer(model, SGD(0.1))\n",
        "trainer.fit(X_train_1, train_labels, X_test_1, test_labels,\n",
        "            epochs = 50,\n",
        "            eval_every = 10,\n",
        "            seed=20190119,\n",
        "            batch_size=60)\n",
        "print()\n",
        "calc_accuracy_model(model, X_test_1)"
      ],
      "execution_count": null,
      "outputs": [
        {
          "output_type": "stream",
          "text": [
            "Validation loss after 10 epochs is 0.611\n",
            "Validation loss after 20 epochs is 0.427\n",
            "Validation loss after 30 epochs is 0.389\n",
            "Validation loss after 40 epochs is 0.373\n",
            "Validation loss after 50 epochs is 0.365\n",
            "\n",
            "The model validation accuracy is: 72.67%\n"
          ],
          "name": "stdout"
        }
      ]
    },
    {
      "cell_type": "code",
      "metadata": {
        "colab": {
          "base_uri": "https://localhost:8080/"
        },
        "id": "DLSmCsanrm3M",
        "outputId": "1483ab9c-6426-454b-e2d6-e20c942201b9"
      },
      "source": [
        "#  Делам нейронку для цифр , другая ошибка \n",
        "\n",
        "model = NeuralNetwork(\n",
        "    layers=[Dense(neurons=89, \n",
        "                  activation=Sigmoid()),\n",
        "            Dense(neurons=10, \n",
        "                  activation=Linear())],\n",
        "            loss = SoftmaxCrossEntropy(), \n",
        "seed=20190119)\n",
        "\n",
        "trainer = Trainer(model, SGD(0.1))\n",
        "trainer.fit(X_train, train_labels, X_test, test_labels,\n",
        "            epochs = 50,\n",
        "            eval_every = 1,\n",
        "            seed=20190119,\n",
        "            batch_size=60);\n",
        "print()\n",
        "calc_accuracy_model(model, X_test)"
      ],
      "execution_count": null,
      "outputs": [
        {
          "output_type": "stream",
          "text": [
            "/content/ft_neural_network_lib/V2/activations.py:36: RuntimeWarning: overflow encountered in exp\n",
            "  return 1.0/(1.0+np.exp(-1.0 * self.input_))\n"
          ],
          "name": "stderr"
        },
        {
          "output_type": "stream",
          "text": [
            "Validation loss after 1 epochs is 1.613\n",
            "Validation loss after 2 epochs is 1.225\n",
            "Validation loss after 3 epochs is 1.125\n",
            "Validation loss after 4 epochs is 1.056\n",
            "Validation loss after 5 epochs is 1.001\n",
            "Validation loss after 6 epochs is 0.936\n",
            "Validation loss after 7 epochs is 0.901\n",
            "Validation loss after 8 epochs is 0.881\n",
            "Validation loss after 9 epochs is 0.858\n",
            "Loss increased after epoch 10, final loss was 0.858, using the model from epoch 9\n",
            "\n",
            "The model validation accuracy is: 84.23%\n"
          ],
          "name": "stdout"
        }
      ]
    },
    {
      "cell_type": "code",
      "metadata": {
        "colab": {
          "base_uri": "https://localhost:8080/"
        },
        "id": "zyjFDmxwr2UF",
        "outputId": "1b7c648a-10cd-4463-e3e5-2f1ea754fe96"
      },
      "source": [
        "#  Делам нейронку для цифр , другая ошибка  уже отнормированные\n",
        "\n",
        "model = NeuralNetwork(\n",
        "    layers=[Dense(neurons=89, \n",
        "                  activation=Sigmoid()),\n",
        "            Dense(neurons=10, \n",
        "                  activation=Linear())],\n",
        "            loss = SoftmaxCrossEntropy(), \n",
        "seed=20190119)\n",
        "\n",
        "trainer = Trainer(model, SGD(0.1))\n",
        "trainer.fit(X_train_1, train_labels, X_test_1, test_labels,\n",
        "            epochs = 50,\n",
        "            eval_every = 1,\n",
        "            seed=20190119,\n",
        "            batch_size=60);\n",
        "print()\n",
        "calc_accuracy_model(model, X_test_1)"
      ],
      "execution_count": null,
      "outputs": [
        {
          "output_type": "stream",
          "text": [
            "Validation loss after 1 epochs is 1.285\n",
            "Validation loss after 2 epochs is 0.970\n",
            "Validation loss after 3 epochs is 0.836\n",
            "Validation loss after 4 epochs is 0.763\n",
            "Validation loss after 5 epochs is 0.712\n",
            "Validation loss after 6 epochs is 0.679\n",
            "Validation loss after 7 epochs is 0.651\n",
            "Validation loss after 8 epochs is 0.631\n",
            "Validation loss after 9 epochs is 0.617\n",
            "Validation loss after 10 epochs is 0.599\n",
            "Validation loss after 11 epochs is 0.588\n",
            "Validation loss after 12 epochs is 0.576\n",
            "Validation loss after 13 epochs is 0.568\n",
            "Validation loss after 14 epochs is 0.557\n",
            "Validation loss after 15 epochs is 0.550\n",
            "Validation loss after 16 epochs is 0.544\n",
            "Validation loss after 17 epochs is 0.537\n",
            "Validation loss after 18 epochs is 0.533\n",
            "Validation loss after 19 epochs is 0.529\n",
            "Validation loss after 20 epochs is 0.523\n",
            "Validation loss after 21 epochs is 0.517\n",
            "Validation loss after 22 epochs is 0.512\n",
            "Validation loss after 23 epochs is 0.507\n",
            "Loss increased after epoch 24, final loss was 0.507, using the model from epoch 23\n",
            "\n",
            "The model validation accuracy is: 91.04%\n"
          ],
          "name": "stdout"
        }
      ]
    },
    {
      "cell_type": "code",
      "metadata": {
        "colab": {
          "base_uri": "https://localhost:8080/",
          "height": 341
        },
        "id": "EmbHQZTetO-Z",
        "outputId": "0ff62915-14be-4150-ed44-73dfc168e387"
      },
      "source": [
        "n = 21\n",
        "\n",
        "print(np.argmax(model.forward(X_test[n])))\n",
        "\n",
        "import matplotlib.pyplot as plt\n",
        "fig, ax = plt.subplots()\n",
        "ax.imshow(X_test[n].reshape(28,28))"
      ],
      "execution_count": 23,
      "outputs": [
        {
          "output_type": "stream",
          "text": [
            "6\n"
          ],
          "name": "stdout"
        },
        {
          "output_type": "stream",
          "text": [
            "/content/ft_neural_network_lib/V2/activations.py:36: RuntimeWarning: overflow encountered in exp\n",
            "  return 1.0/(1.0+np.exp(-1.0 * self.input_))\n"
          ],
          "name": "stderr"
        },
        {
          "output_type": "execute_result",
          "data": {
            "text/plain": [
              "<matplotlib.image.AxesImage at 0x7f98e8393ed0>"
            ]
          },
          "metadata": {
            "tags": []
          },
          "execution_count": 23
        },
        {
          "output_type": "display_data",
          "data": {
            "image/png": "[encoded data removed]",
            "text/plain": [
              "<Figure size 432x288 with 1 Axes>"
            ]
          },
          "metadata": {
            "tags": [],
            "needs_background": "light"
          }
        }
      ]
    }
  ]
}